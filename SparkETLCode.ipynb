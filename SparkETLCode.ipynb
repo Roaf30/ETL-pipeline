{
 "cells": [
  {
   "cell_type": "markdown",
   "id": "a907c308",
   "metadata": {},
   "source": [
    "### Starting Spark Session"
   ]
  },
  {
   "cell_type": "code",
   "execution_count": 1,
   "id": "730f443b",
   "metadata": {},
   "outputs": [
    {
     "data": {
      "application/vnd.jupyter.widget-view+json": {
       "model_id": "cb8f42d7d04b42579d2f966f3ff95637",
       "version_major": 2,
       "version_minor": 0
      },
      "text/plain": [
       "VBox()"
      ]
     },
     "metadata": {},
     "output_type": "display_data"
    },
    {
     "name": "stdout",
     "output_type": "stream",
     "text": [
      "Starting Spark application\n"
     ]
    },
    {
     "data": {
      "text/html": [
       "<table>\n",
       "<tr><th>ID</th><th>YARN Application ID</th><th>Kind</th><th>State</th><th>Spark UI</th><th>Driver log</th><th>Current session?</th></tr><tr><td>0</td><td>application_1643524629722_0002</td><td>pyspark</td><td>idle</td><td><a target=\"_blank\" href=\"http://ip-172-31-88-116.ec2.internal:20888/proxy/application_1643524629722_0002/\">Link</a></td><td><a target=\"_blank\" href=\"http://ip-172-31-88-116.ec2.internal:8042/node/containerlogs/container_1643524629722_0002_01_000001/livy\">Link</a></td><td>✔</td></tr></table>"
      ],
      "text/plain": [
       "<IPython.core.display.HTML object>"
      ]
     },
     "metadata": {},
     "output_type": "display_data"
    },
    {
     "data": {
      "application/vnd.jupyter.widget-view+json": {
       "model_id": "",
       "version_major": 2,
       "version_minor": 0
      },
      "text/plain": [
       "FloatProgress(value=0.0, bar_style='info', description='Progress:', layout=Layout(height='25px', width='50%'),…"
      ]
     },
     "metadata": {},
     "output_type": "display_data"
    },
    {
     "name": "stdout",
     "output_type": "stream",
     "text": [
      "SparkSession available as 'spark'.\n"
     ]
    },
    {
     "data": {
      "application/vnd.jupyter.widget-view+json": {
       "model_id": "",
       "version_major": 2,
       "version_minor": 0
      },
      "text/plain": [
       "FloatProgress(value=0.0, bar_style='info', description='Progress:', layout=Layout(height='25px', width='50%'),…"
      ]
     },
     "metadata": {},
     "output_type": "display_data"
    },
    {
     "name": "stdout",
     "output_type": "stream",
     "text": [
      "<pyspark.sql.session.SparkSession object at 0x7f2b89939bd0>"
     ]
    }
   ],
   "source": [
    "spark"
   ]
  },
  {
   "cell_type": "code",
   "execution_count": 2,
   "id": "35ffb031",
   "metadata": {},
   "outputs": [
    {
     "data": {
      "application/vnd.jupyter.widget-view+json": {
       "model_id": "2e3e303a1bea45199512204a1e630f03",
       "version_major": 2,
       "version_minor": 0
      },
      "text/plain": [
       "VBox()"
      ]
     },
     "metadata": {},
     "output_type": "display_data"
    },
    {
     "data": {
      "application/vnd.jupyter.widget-view+json": {
       "model_id": "",
       "version_major": 2,
       "version_minor": 0
      },
      "text/plain": [
       "FloatProgress(value=0.0, bar_style='info', description='Progress:', layout=Layout(height='25px', width='50%'),…"
      ]
     },
     "metadata": {},
     "output_type": "display_data"
    }
   ],
   "source": [
    "df = spark.read.csv('atm_data/part-m-00000', inferSchema = True)"
   ]
  },
  {
   "cell_type": "code",
   "execution_count": 3,
   "id": "7a5e571a",
   "metadata": {},
   "outputs": [
    {
     "data": {
      "application/vnd.jupyter.widget-view+json": {
       "model_id": "a868f94a3bf94f7f98469bdb74d4a8e1",
       "version_major": 2,
       "version_minor": 0
      },
      "text/plain": [
       "VBox()"
      ]
     },
     "metadata": {},
     "output_type": "display_data"
    },
    {
     "data": {
      "application/vnd.jupyter.widget-view+json": {
       "model_id": "",
       "version_major": 2,
       "version_minor": 0
      },
      "text/plain": [
       "FloatProgress(value=0.0, bar_style='info', description='Progress:', layout=Layout(height='25px', width='50%'),…"
      ]
     },
     "metadata": {},
     "output_type": "display_data"
    },
    {
     "name": "stdout",
     "output_type": "stream",
     "text": [
      "[('_c0', 'int'), ('_c1', 'string'), ('_c2', 'int'), ('_c3', 'string'), ('_c4', 'int'), ('_c5', 'string'), ('_c6', 'int'), ('_c7', 'string'), ('_c8', 'string'), ('_c9', 'string'), ('_c10', 'int'), ('_c11', 'int'), ('_c12', 'double'), ('_c13', 'double'), ('_c14', 'string'), ('_c15', 'string'), ('_c16', 'int'), ('_c17', 'string'), ('_c18', 'int'), ('_c19', 'string'), ('_c20', 'double'), ('_c21', 'double'), ('_c22', 'int'), ('_c23', 'string'), ('_c24', 'double'), ('_c25', 'int'), ('_c26', 'int'), ('_c27', 'int'), ('_c28', 'int'), ('_c29', 'double'), ('_c30', 'int'), ('_c31', 'int'), ('_c32', 'string'), ('_c33', 'string')]"
     ]
    }
   ],
   "source": [
    "df.dtypes"
   ]
  },
  {
   "cell_type": "markdown",
   "id": "30de17d3",
   "metadata": {},
   "source": [
    "### Defining schema of dataframe"
   ]
  },
  {
   "cell_type": "code",
   "execution_count": 4,
   "id": "2bded4b8",
   "metadata": {},
   "outputs": [
    {
     "data": {
      "application/vnd.jupyter.widget-view+json": {
       "model_id": "5d5324dcb42b42ad94f6add347a183af",
       "version_major": 2,
       "version_minor": 0
      },
      "text/plain": [
       "VBox()"
      ]
     },
     "metadata": {},
     "output_type": "display_data"
    },
    {
     "data": {
      "application/vnd.jupyter.widget-view+json": {
       "model_id": "",
       "version_major": 2,
       "version_minor": 0
      },
      "text/plain": [
       "FloatProgress(value=0.0, bar_style='info', description='Progress:', layout=Layout(height='25px', width='50%'),…"
      ]
     },
     "metadata": {},
     "output_type": "display_data"
    }
   ],
   "source": [
    "from pyspark.sql.types import StructType, StructField, IntegerType, StringType, DoubleType\n",
    "\n",
    "fileSchema = StructType([StructField('year',IntegerType(), True),\n",
    "                        StructField('month',StringType(), True),\n",
    "                        StructField('day',IntegerType(), True),\n",
    "                        StructField('weekday',StringType(), True),\n",
    "                        StructField('hour',IntegerType(), True),\n",
    "                        StructField('atm_status',StringType(), True),\n",
    "                        StructField('atm_id',IntegerType(), True),\n",
    "                        StructField('atm_manufacturer',StringType(), True),\n",
    "                        StructField('atm_location',StringType(), True),\n",
    "                        StructField('atm_streetname',StringType(), True),\n",
    "                        StructField('atm_street_number',IntegerType(), True),\n",
    "                        StructField('atm_zipcode',IntegerType(), True),\n",
    "                        StructField('atm_lat',DoubleType(), True),\n",
    "                        StructField('atm_lon',DoubleType(), True),\n",
    "                        StructField('currency',StringType(), True),\n",
    "                        StructField('card_type',StringType(), True),\n",
    "                        StructField('transaction_amount', IntegerType(), True),\n",
    "                        StructField('service',StringType(), True),\n",
    "                        StructField('message_code',StringType(), True),\n",
    "                        StructField('message_text',StringType(), True),\n",
    "                        StructField('weather_lat',DoubleType(), True),\n",
    "                        StructField('weather_lon',DoubleType(), True),\n",
    "                        StructField('weather_city_id',IntegerType(), True),\n",
    "                        StructField('weather_city_name',StringType(), True),\n",
    "                        StructField('temp',DoubleType(), True),\n",
    "                        StructField('pressure',IntegerType(), True),\n",
    "                        StructField('humidity',IntegerType(), True),\n",
    "                        StructField('wind_speed',IntegerType(), True),\n",
    "                        StructField('wind_deg',IntegerType(), True),\n",
    "                        StructField('rain_3h',DoubleType(), True),\n",
    "                        StructField('clouds_all',IntegerType(), True),\n",
    "                        StructField('weather_id',IntegerType(), True),\n",
    "                        StructField('weather_main',StringType(), True),\n",
    "                        StructField('weather_description',StringType(), True)])"
   ]
  },
  {
   "cell_type": "code",
   "execution_count": 6,
   "id": "bd607024",
   "metadata": {},
   "outputs": [
    {
     "data": {
      "application/vnd.jupyter.widget-view+json": {
       "model_id": "28e4e8ec262c45a68fa4f28b88f74ca6",
       "version_major": 2,
       "version_minor": 0
      },
      "text/plain": [
       "VBox()"
      ]
     },
     "metadata": {},
     "output_type": "display_data"
    },
    {
     "data": {
      "application/vnd.jupyter.widget-view+json": {
       "model_id": "",
       "version_major": 2,
       "version_minor": 0
      },
      "text/plain": [
       "FloatProgress(value=0.0, bar_style='info', description='Progress:', layout=Layout(height='25px', width='50%'),…"
      ]
     },
     "metadata": {},
     "output_type": "display_data"
    }
   ],
   "source": [
    "df = spark.read.csv('atm_data/part-m-00000', schema = fileSchema)"
   ]
  },
  {
   "cell_type": "markdown",
   "id": "cd193edf",
   "metadata": {},
   "source": [
    "##### FACT_ATM_TRANS - count of records validation"
   ]
  },
  {
   "cell_type": "code",
   "execution_count": 7,
   "id": "cfa55d1b",
   "metadata": {},
   "outputs": [
    {
     "data": {
      "application/vnd.jupyter.widget-view+json": {
       "model_id": "a48232fedceb4a6d95d9b76e46fd1bd7",
       "version_major": 2,
       "version_minor": 0
      },
      "text/plain": [
       "VBox()"
      ]
     },
     "metadata": {},
     "output_type": "display_data"
    },
    {
     "data": {
      "application/vnd.jupyter.widget-view+json": {
       "model_id": "",
       "version_major": 2,
       "version_minor": 0
      },
      "text/plain": [
       "FloatProgress(value=0.0, bar_style='info', description='Progress:', layout=Layout(height='25px', width='50%'),…"
      ]
     },
     "metadata": {},
     "output_type": "display_data"
    },
    {
     "name": "stdout",
     "output_type": "stream",
     "text": [
      "2468572"
     ]
    }
   ],
   "source": [
    "df.count()"
   ]
  },
  {
   "cell_type": "code",
   "execution_count": 8,
   "id": "5e4c1135",
   "metadata": {},
   "outputs": [
    {
     "data": {
      "application/vnd.jupyter.widget-view+json": {
       "model_id": "430b62213c2541de84ae0d884b09053d",
       "version_major": 2,
       "version_minor": 0
      },
      "text/plain": [
       "VBox()"
      ]
     },
     "metadata": {},
     "output_type": "display_data"
    },
    {
     "data": {
      "application/vnd.jupyter.widget-view+json": {
       "model_id": "",
       "version_major": 2,
       "version_minor": 0
      },
      "text/plain": [
       "FloatProgress(value=0.0, bar_style='info', description='Progress:', layout=Layout(height='25px', width='50%'),…"
      ]
     },
     "metadata": {},
     "output_type": "display_data"
    },
    {
     "name": "stdout",
     "output_type": "stream",
     "text": [
      "+----+-------+---+-------+----+----------+------+----------------+------------+--------------+-----------------+-----------+-------+-------+--------+----------+------------------+----------+------------+------------+-----------+-----------+---------------+-----------------+------+--------+--------+----------+--------+-------+----------+----------+------------+-------------------+\n",
      "|year|  month|day|weekday|hour|atm_status|atm_id|atm_manufacturer|atm_location|atm_streetname|atm_street_number|atm_zipcode|atm_lat|atm_lon|currency| card_type|transaction_amount|   service|message_code|message_text|weather_lat|weather_lon|weather_city_id|weather_city_name|  temp|pressure|humidity|wind_speed|wind_deg|rain_3h|clouds_all|weather_id|weather_main|weather_description|\n",
      "+----+-------+---+-------+----+----------+------+----------------+------------+--------------+-----------------+-----------+-------+-------+--------+----------+------------------+----------+------------+------------+-----------+-----------+---------------+-----------------+------+--------+--------+----------+--------+-------+----------+----------+------------+-------------------+\n",
      "|2017|January|  1| Sunday|   0|    Active|     1|             NCR|  NÃƒÂ¦stved|   Farimagsvej|                8|       4700| 55.233| 11.763|     DKK|MasterCard|              5643|Withdrawal|        null|        null|      55.23|     11.761|        2616038|         Naestved|281.15|    1014|      87|         7|     260|  0.215|        92|       500|        Rain|         light rain|\n",
      "|2017|January|  1| Sunday|   0|  Inactive|     2|             NCR|    Vejgaard|    Hadsundvej|               20|       9000| 57.043|   9.95|     DKK|MasterCard|              1764|Withdrawal|        null|        null|     57.048|      9.935|        2616235|   NÃƒÂ¸rresundby|280.64|    1020|      93|         9|     250|   0.59|        92|       500|        Rain|         light rain|\n",
      "+----+-------+---+-------+----+----------+------+----------------+------------+--------------+-----------------+-----------+-------+-------+--------+----------+------------------+----------+------------+------------+-----------+-----------+---------------+-----------------+------+--------+--------+----------+--------+-------+----------+----------+------------+-------------------+\n",
      "only showing top 2 rows"
     ]
    }
   ],
   "source": [
    "df.show(2)"
   ]
  },
  {
   "cell_type": "code",
   "execution_count": 12,
   "id": "ce403154",
   "metadata": {},
   "outputs": [
    {
     "data": {
      "application/vnd.jupyter.widget-view+json": {
       "model_id": "1d41f54038e5484bb733c4a74dbe2574",
       "version_major": 2,
       "version_minor": 0
      },
      "text/plain": [
       "VBox()"
      ]
     },
     "metadata": {},
     "output_type": "display_data"
    },
    {
     "data": {
      "application/vnd.jupyter.widget-view+json": {
       "model_id": "",
       "version_major": 2,
       "version_minor": 0
      },
      "text/plain": [
       "FloatProgress(value=0.0, bar_style='info', description='Progress:', layout=Layout(height='25px', width='50%'),…"
      ]
     },
     "metadata": {},
     "output_type": "display_data"
    }
   ],
   "source": [
    "from pyspark.sql.functions import *\n",
    "from pyspark.sql.window import Window"
   ]
  },
  {
   "cell_type": "code",
   "execution_count": 13,
   "id": "994a936d",
   "metadata": {},
   "outputs": [
    {
     "data": {
      "application/vnd.jupyter.widget-view+json": {
       "model_id": "8196b349f69f4057b3cd5cb04c3bd73a",
       "version_major": 2,
       "version_minor": 0
      },
      "text/plain": [
       "VBox()"
      ]
     },
     "metadata": {},
     "output_type": "display_data"
    },
    {
     "data": {
      "application/vnd.jupyter.widget-view+json": {
       "model_id": "",
       "version_major": 2,
       "version_minor": 0
      },
      "text/plain": [
       "FloatProgress(value=0.0, bar_style='info', description='Progress:', layout=Layout(height='25px', width='50%'),…"
      ]
     },
     "metadata": {},
     "output_type": "display_data"
    },
    {
     "name": "stdout",
     "output_type": "stream",
     "text": [
      "+------------------------------------+\n",
      "|concat_ws( , day, month, year, hour)|\n",
      "+------------------------------------+\n",
      "|                    1 January 2017 0|\n",
      "|                    1 January 2017 0|\n",
      "|                    1 January 2017 0|\n",
      "|                    1 January 2017 0|\n",
      "|                    1 January 2017 0|\n",
      "+------------------------------------+\n",
      "only showing top 5 rows"
     ]
    }
   ],
   "source": [
    "df.select(concat_ws(' ',df.day, df.month, df.year, df.hour)).show(5)"
   ]
  },
  {
   "cell_type": "code",
   "execution_count": 14,
   "id": "f4152ea1",
   "metadata": {},
   "outputs": [
    {
     "data": {
      "application/vnd.jupyter.widget-view+json": {
       "model_id": "84e354fd56094c458cafedb8b5c0048f",
       "version_major": 2,
       "version_minor": 0
      },
      "text/plain": [
       "VBox()"
      ]
     },
     "metadata": {},
     "output_type": "display_data"
    },
    {
     "data": {
      "application/vnd.jupyter.widget-view+json": {
       "model_id": "",
       "version_major": 2,
       "version_minor": 0
      },
      "text/plain": [
       "FloatProgress(value=0.0, bar_style='info', description='Progress:', layout=Layout(height='25px', width='50%'),…"
      ]
     },
     "metadata": {},
     "output_type": "display_data"
    }
   ],
   "source": [
    "df = df.withColumn('full_dt', concat_ws(' ',df.day, df.month, df.year, df.hour))"
   ]
  },
  {
   "cell_type": "markdown",
   "id": "95b3cb84",
   "metadata": {},
   "source": [
    "### Adding a full_date_time column"
   ]
  },
  {
   "cell_type": "code",
   "execution_count": 26,
   "id": "2c274d75",
   "metadata": {},
   "outputs": [
    {
     "data": {
      "application/vnd.jupyter.widget-view+json": {
       "model_id": "acd60bce3bd24833849a8778f9b51232",
       "version_major": 2,
       "version_minor": 0
      },
      "text/plain": [
       "VBox()"
      ]
     },
     "metadata": {},
     "output_type": "display_data"
    },
    {
     "data": {
      "application/vnd.jupyter.widget-view+json": {
       "model_id": "",
       "version_major": 2,
       "version_minor": 0
      },
      "text/plain": [
       "FloatProgress(value=0.0, bar_style='info', description='Progress:', layout=Layout(height='25px', width='50%'),…"
      ]
     },
     "metadata": {},
     "output_type": "display_data"
    }
   ],
   "source": [
    "pattern = 'dd MMMM yyyy H'\n",
    "df = df.withColumn('full_date_time', unix_timestamp(df['full_dt'], pattern).cast('timestamp'))"
   ]
  },
  {
   "cell_type": "code",
   "execution_count": 27,
   "id": "8d91c867",
   "metadata": {},
   "outputs": [
    {
     "data": {
      "application/vnd.jupyter.widget-view+json": {
       "model_id": "23ddab28a9a64f79a1c3889f87313135",
       "version_major": 2,
       "version_minor": 0
      },
      "text/plain": [
       "VBox()"
      ]
     },
     "metadata": {},
     "output_type": "display_data"
    },
    {
     "data": {
      "application/vnd.jupyter.widget-view+json": {
       "model_id": "",
       "version_major": 2,
       "version_minor": 0
      },
      "text/plain": [
       "FloatProgress(value=0.0, bar_style='info', description='Progress:', layout=Layout(height='25px', width='50%'),…"
      ]
     },
     "metadata": {},
     "output_type": "display_data"
    },
    {
     "name": "stdout",
     "output_type": "stream",
     "text": [
      "+----+-------+---+-------+----+----------+------+----------------+------------+--------------+-----------------+-----------+-------+-------+--------+----------+------------------+----------+------------+------------+-----------+-----------+---------------+-----------------+------+--------+--------+----------+--------+-------+----------+----------+------------+-------------------+----------------+-------------------+\n",
      "|year|  month|day|weekday|hour|atm_status|atm_id|atm_manufacturer|atm_location|atm_streetname|atm_street_number|atm_zipcode|atm_lat|atm_lon|currency| card_type|transaction_amount|   service|message_code|message_text|weather_lat|weather_lon|weather_city_id|weather_city_name|  temp|pressure|humidity|wind_speed|wind_deg|rain_3h|clouds_all|weather_id|weather_main|weather_description|         full_dt|     full_date_time|\n",
      "+----+-------+---+-------+----+----------+------+----------------+------------+--------------+-----------------+-----------+-------+-------+--------+----------+------------------+----------+------------+------------+-----------+-----------+---------------+-----------------+------+--------+--------+----------+--------+-------+----------+----------+------------+-------------------+----------------+-------------------+\n",
      "|2017|January|  1| Sunday|   0|    Active|     1|             NCR|  NÃƒÂ¦stved|   Farimagsvej|                8|       4700| 55.233| 11.763|     DKK|MasterCard|              5643|Withdrawal|        null|        null|      55.23|     11.761|        2616038|         Naestved|281.15|    1014|      87|         7|     260|  0.215|        92|       500|        Rain|         light rain|1 January 2017 0|2017-01-01 00:00:00|\n",
      "|2017|January|  1| Sunday|   0|  Inactive|     2|             NCR|    Vejgaard|    Hadsundvej|               20|       9000| 57.043|   9.95|     DKK|MasterCard|              1764|Withdrawal|        null|        null|     57.048|      9.935|        2616235|   NÃƒÂ¸rresundby|280.64|    1020|      93|         9|     250|   0.59|        92|       500|        Rain|         light rain|1 January 2017 0|2017-01-01 00:00:00|\n",
      "+----+-------+---+-------+----+----------+------+----------------+------------+--------------+-----------------+-----------+-------+-------+--------+----------+------------------+----------+------------+------------+-----------+-----------+---------------+-----------------+------+--------+--------+----------+--------+-------+----------+----------+------------+-------------------+----------------+-------------------+\n",
      "only showing top 2 rows"
     ]
    }
   ],
   "source": [
    "df.show(2)"
   ]
  },
  {
   "cell_type": "code",
   "execution_count": 29,
   "id": "8863f021",
   "metadata": {},
   "outputs": [
    {
     "data": {
      "application/vnd.jupyter.widget-view+json": {
       "model_id": "36955367ae504dd9b63522a2e79a0d1a",
       "version_major": 2,
       "version_minor": 0
      },
      "text/plain": [
       "VBox()"
      ]
     },
     "metadata": {},
     "output_type": "display_data"
    },
    {
     "data": {
      "application/vnd.jupyter.widget-view+json": {
       "model_id": "",
       "version_major": 2,
       "version_minor": 0
      },
      "text/plain": [
       "FloatProgress(value=0.0, bar_style='info', description='Progress:', layout=Layout(height='25px', width='50%'),…"
      ]
     },
     "metadata": {},
     "output_type": "display_data"
    },
    {
     "name": "stdout",
     "output_type": "stream",
     "text": [
      "+------+----------------+\n",
      "|atm_id|atm_manufacturer|\n",
      "+------+----------------+\n",
      "|     1|             NCR|\n",
      "|     2|             NCR|\n",
      "|     2|             NCR|\n",
      "|     3|             NCR|\n",
      "|     4|             NCR|\n",
      "+------+----------------+\n",
      "only showing top 5 rows"
     ]
    }
   ],
   "source": [
    "df.select('atm_id','atm_manufacturer').show(5)"
   ]
  },
  {
   "cell_type": "markdown",
   "id": "7677a347",
   "metadata": {},
   "source": [
    "### Adding the atm_number column"
   ]
  },
  {
   "cell_type": "code",
   "execution_count": 34,
   "id": "94ea2f4a",
   "metadata": {},
   "outputs": [
    {
     "data": {
      "application/vnd.jupyter.widget-view+json": {
       "model_id": "06cf4a2b1b1549f38aa04714485ff1f8",
       "version_major": 2,
       "version_minor": 0
      },
      "text/plain": [
       "VBox()"
      ]
     },
     "metadata": {},
     "output_type": "display_data"
    },
    {
     "data": {
      "application/vnd.jupyter.widget-view+json": {
       "model_id": "",
       "version_major": 2,
       "version_minor": 0
      },
      "text/plain": [
       "FloatProgress(value=0.0, bar_style='info', description='Progress:', layout=Layout(height='25px', width='50%'),…"
      ]
     },
     "metadata": {},
     "output_type": "display_data"
    }
   ],
   "source": [
    "df = df.withColumn('atm_number', concat(lit('atm_'), df.atm_id))"
   ]
  },
  {
   "cell_type": "code",
   "execution_count": 35,
   "id": "dfe5496f",
   "metadata": {},
   "outputs": [
    {
     "data": {
      "application/vnd.jupyter.widget-view+json": {
       "model_id": "8d0e35f7eaac459c9c12bcbe034e826c",
       "version_major": 2,
       "version_minor": 0
      },
      "text/plain": [
       "VBox()"
      ]
     },
     "metadata": {},
     "output_type": "display_data"
    },
    {
     "data": {
      "application/vnd.jupyter.widget-view+json": {
       "model_id": "",
       "version_major": 2,
       "version_minor": 0
      },
      "text/plain": [
       "FloatProgress(value=0.0, bar_style='info', description='Progress:', layout=Layout(height='25px', width='50%'),…"
      ]
     },
     "metadata": {},
     "output_type": "display_data"
    },
    {
     "name": "stdout",
     "output_type": "stream",
     "text": [
      "+----+-------+---+-------+----+----------+------+----------------+------------+--------------+-----------------+-----------+-------+-------+--------+----------+------------------+----------+------------+------------+-----------+-----------+---------------+-----------------+------+--------+--------+----------+--------+-------+----------+----------+------------+-------------------+----------------+-------------------+----------+\n",
      "|year|  month|day|weekday|hour|atm_status|atm_id|atm_manufacturer|atm_location|atm_streetname|atm_street_number|atm_zipcode|atm_lat|atm_lon|currency| card_type|transaction_amount|   service|message_code|message_text|weather_lat|weather_lon|weather_city_id|weather_city_name|  temp|pressure|humidity|wind_speed|wind_deg|rain_3h|clouds_all|weather_id|weather_main|weather_description|         full_dt|     full_date_time|atm_number|\n",
      "+----+-------+---+-------+----+----------+------+----------------+------------+--------------+-----------------+-----------+-------+-------+--------+----------+------------------+----------+------------+------------+-----------+-----------+---------------+-----------------+------+--------+--------+----------+--------+-------+----------+----------+------------+-------------------+----------------+-------------------+----------+\n",
      "|2017|January|  1| Sunday|   0|    Active|     1|             NCR|  NÃƒÂ¦stved|   Farimagsvej|                8|       4700| 55.233| 11.763|     DKK|MasterCard|              5643|Withdrawal|        null|        null|      55.23|     11.761|        2616038|         Naestved|281.15|    1014|      87|         7|     260|  0.215|        92|       500|        Rain|         light rain|1 January 2017 0|2017-01-01 00:00:00|     atm_1|\n",
      "|2017|January|  1| Sunday|   0|  Inactive|     2|             NCR|    Vejgaard|    Hadsundvej|               20|       9000| 57.043|   9.95|     DKK|MasterCard|              1764|Withdrawal|        null|        null|     57.048|      9.935|        2616235|   NÃƒÂ¸rresundby|280.64|    1020|      93|         9|     250|   0.59|        92|       500|        Rain|         light rain|1 January 2017 0|2017-01-01 00:00:00|     atm_2|\n",
      "+----+-------+---+-------+----+----------+------+----------------+------------+--------------+-----------------+-----------+-------+-------+--------+----------+------------------+----------+------------+------------+-----------+-----------+---------------+-----------------+------+--------+--------+----------+--------+-------+----------+----------+------------+-------------------+----------------+-------------------+----------+\n",
      "only showing top 2 rows"
     ]
    }
   ],
   "source": [
    "df.show(2)"
   ]
  },
  {
   "cell_type": "markdown",
   "id": "a6904fb8",
   "metadata": {},
   "source": [
    "##### DIM_CARD_TYPE - count of records validation"
   ]
  },
  {
   "cell_type": "code",
   "execution_count": 36,
   "id": "22f6aea2",
   "metadata": {},
   "outputs": [
    {
     "data": {
      "application/vnd.jupyter.widget-view+json": {
       "model_id": "8838a65c5b1948959c955af10ca3074d",
       "version_major": 2,
       "version_minor": 0
      },
      "text/plain": [
       "VBox()"
      ]
     },
     "metadata": {},
     "output_type": "display_data"
    },
    {
     "data": {
      "application/vnd.jupyter.widget-view+json": {
       "model_id": "",
       "version_major": 2,
       "version_minor": 0
      },
      "text/plain": [
       "FloatProgress(value=0.0, bar_style='info', description='Progress:', layout=Layout(height='25px', width='50%'),…"
      ]
     },
     "metadata": {},
     "output_type": "display_data"
    },
    {
     "name": "stdout",
     "output_type": "stream",
     "text": [
      "+--------------------+\n",
      "|           card_type|\n",
      "+--------------------+\n",
      "|Visa Dankort - on-us|\n",
      "|  Mastercard - on-us|\n",
      "|         HÃƒÂ¦vekort|\n",
      "|            VisaPlus|\n",
      "|     Dankort - on-us|\n",
      "|        Visa Dankort|\n",
      "| HÃƒÂ¦vekort - on-us|\n",
      "|              CIRRUS|\n",
      "|                VISA|\n",
      "|             Maestro|\n",
      "|          MasterCard|\n",
      "|             Dankort|\n",
      "+--------------------+"
     ]
    }
   ],
   "source": [
    "df.select('card_type').distinct().show()"
   ]
  },
  {
   "cell_type": "markdown",
   "id": "3cff924b",
   "metadata": {},
   "source": [
    "### Creating a DataFrame for DIM_CARD_TYPE Table"
   ]
  },
  {
   "cell_type": "code",
   "execution_count": 44,
   "id": "6f380b1a",
   "metadata": {},
   "outputs": [
    {
     "data": {
      "application/vnd.jupyter.widget-view+json": {
       "model_id": "d39eb818ddd44b189ecbadbaf3257ee1",
       "version_major": 2,
       "version_minor": 0
      },
      "text/plain": [
       "VBox()"
      ]
     },
     "metadata": {},
     "output_type": "display_data"
    },
    {
     "data": {
      "application/vnd.jupyter.widget-view+json": {
       "model_id": "",
       "version_major": 2,
       "version_minor": 0
      },
      "text/plain": [
       "FloatProgress(value=0.0, bar_style='info', description='Progress:', layout=Layout(height='25px', width='50%'),…"
      ]
     },
     "metadata": {},
     "output_type": "display_data"
    }
   ],
   "source": [
    "df1 = df.select('card_type').distinct()"
   ]
  },
  {
   "cell_type": "code",
   "execution_count": 46,
   "id": "2f2a5b96",
   "metadata": {},
   "outputs": [
    {
     "data": {
      "application/vnd.jupyter.widget-view+json": {
       "model_id": "b33d53078e4343c88ff9a412f664541f",
       "version_major": 2,
       "version_minor": 0
      },
      "text/plain": [
       "VBox()"
      ]
     },
     "metadata": {},
     "output_type": "display_data"
    },
    {
     "data": {
      "application/vnd.jupyter.widget-view+json": {
       "model_id": "",
       "version_major": 2,
       "version_minor": 0
      },
      "text/plain": [
       "FloatProgress(value=0.0, bar_style='info', description='Progress:', layout=Layout(height='25px', width='50%'),…"
      ]
     },
     "metadata": {},
     "output_type": "display_data"
    }
   ],
   "source": [
    "df1.registerTempTable('file')"
   ]
  },
  {
   "cell_type": "code",
   "execution_count": 47,
   "id": "7d6ba71d",
   "metadata": {},
   "outputs": [
    {
     "data": {
      "application/vnd.jupyter.widget-view+json": {
       "model_id": "70b331387eb1449db9feece4f87f69db",
       "version_major": 2,
       "version_minor": 0
      },
      "text/plain": [
       "VBox()"
      ]
     },
     "metadata": {},
     "output_type": "display_data"
    },
    {
     "data": {
      "application/vnd.jupyter.widget-view+json": {
       "model_id": "",
       "version_major": 2,
       "version_minor": 0
      },
      "text/plain": [
       "FloatProgress(value=0.0, bar_style='info', description='Progress:', layout=Layout(height='25px', width='50%'),…"
      ]
     },
     "metadata": {},
     "output_type": "display_data"
    }
   ],
   "source": [
    "df1 = spark.sql('select row_number() over(order by card_type) as card_type_id, card_type from file')"
   ]
  },
  {
   "cell_type": "code",
   "execution_count": 48,
   "id": "936da75a",
   "metadata": {},
   "outputs": [
    {
     "data": {
      "application/vnd.jupyter.widget-view+json": {
       "model_id": "5b20e3152100403d9b98a2b90702fdfc",
       "version_major": 2,
       "version_minor": 0
      },
      "text/plain": [
       "VBox()"
      ]
     },
     "metadata": {},
     "output_type": "display_data"
    },
    {
     "data": {
      "application/vnd.jupyter.widget-view+json": {
       "model_id": "",
       "version_major": 2,
       "version_minor": 0
      },
      "text/plain": [
       "FloatProgress(value=0.0, bar_style='info', description='Progress:', layout=Layout(height='25px', width='50%'),…"
      ]
     },
     "metadata": {},
     "output_type": "display_data"
    },
    {
     "name": "stdout",
     "output_type": "stream",
     "text": [
      "+------------+--------------------+\n",
      "|card_type_id|           card_type|\n",
      "+------------+--------------------+\n",
      "|           1|              CIRRUS|\n",
      "|           2|             Dankort|\n",
      "|           3|     Dankort - on-us|\n",
      "|           4|         HÃƒÂ¦vekort|\n",
      "|           5| HÃƒÂ¦vekort - on-us|\n",
      "|           6|             Maestro|\n",
      "|           7|          MasterCard|\n",
      "|           8|  Mastercard - on-us|\n",
      "|           9|                VISA|\n",
      "|          10|        Visa Dankort|\n",
      "|          11|Visa Dankort - on-us|\n",
      "|          12|            VisaPlus|\n",
      "+------------+--------------------+"
     ]
    }
   ],
   "source": [
    "df1.show()"
   ]
  },
  {
   "cell_type": "markdown",
   "id": "e48b72d1",
   "metadata": {},
   "source": [
    "### Creating a DataFrame for DIM_LOCATION Table"
   ]
  },
  {
   "cell_type": "code",
   "execution_count": 49,
   "id": "7408475e",
   "metadata": {},
   "outputs": [
    {
     "data": {
      "application/vnd.jupyter.widget-view+json": {
       "model_id": "71f1e28f4aaf4daba1586ac225ee3445",
       "version_major": 2,
       "version_minor": 0
      },
      "text/plain": [
       "VBox()"
      ]
     },
     "metadata": {},
     "output_type": "display_data"
    },
    {
     "data": {
      "application/vnd.jupyter.widget-view+json": {
       "model_id": "",
       "version_major": 2,
       "version_minor": 0
      },
      "text/plain": [
       "FloatProgress(value=0.0, bar_style='info', description='Progress:', layout=Layout(height='25px', width='50%'),…"
      ]
     },
     "metadata": {},
     "output_type": "display_data"
    }
   ],
   "source": [
    "df2 = df.select('atm_location','atm_streetname','atm_street_number','atm_zipcode','atm_lat','atm_lon').distinct()"
   ]
  },
  {
   "cell_type": "markdown",
   "id": "b8e72b92",
   "metadata": {},
   "source": [
    "##### DIM_LOCATION - count of records validation"
   ]
  },
  {
   "cell_type": "code",
   "execution_count": 50,
   "id": "27b4194a",
   "metadata": {},
   "outputs": [
    {
     "data": {
      "application/vnd.jupyter.widget-view+json": {
       "model_id": "e6dd98f0b1de4898b5fa38bd48824413",
       "version_major": 2,
       "version_minor": 0
      },
      "text/plain": [
       "VBox()"
      ]
     },
     "metadata": {},
     "output_type": "display_data"
    },
    {
     "data": {
      "application/vnd.jupyter.widget-view+json": {
       "model_id": "",
       "version_major": 2,
       "version_minor": 0
      },
      "text/plain": [
       "FloatProgress(value=0.0, bar_style='info', description='Progress:', layout=Layout(height='25px', width='50%'),…"
      ]
     },
     "metadata": {},
     "output_type": "display_data"
    },
    {
     "name": "stdout",
     "output_type": "stream",
     "text": [
      "109"
     ]
    }
   ],
   "source": [
    "df2.count()"
   ]
  },
  {
   "cell_type": "code",
   "execution_count": 51,
   "id": "bbb84725",
   "metadata": {},
   "outputs": [
    {
     "data": {
      "application/vnd.jupyter.widget-view+json": {
       "model_id": "f33f8a599aab48558ac8c38455c4371e",
       "version_major": 2,
       "version_minor": 0
      },
      "text/plain": [
       "VBox()"
      ]
     },
     "metadata": {},
     "output_type": "display_data"
    },
    {
     "data": {
      "application/vnd.jupyter.widget-view+json": {
       "model_id": "",
       "version_major": 2,
       "version_minor": 0
      },
      "text/plain": [
       "FloatProgress(value=0.0, bar_style='info', description='Progress:', layout=Layout(height='25px', width='50%'),…"
      ]
     },
     "metadata": {},
     "output_type": "display_data"
    }
   ],
   "source": [
    "df2.registerTempTable('file2')"
   ]
  },
  {
   "cell_type": "code",
   "execution_count": 52,
   "id": "c2ba10aa",
   "metadata": {},
   "outputs": [
    {
     "data": {
      "application/vnd.jupyter.widget-view+json": {
       "model_id": "6ae3cd18166e4c93ae7edcdb7ff580ae",
       "version_major": 2,
       "version_minor": 0
      },
      "text/plain": [
       "VBox()"
      ]
     },
     "metadata": {},
     "output_type": "display_data"
    },
    {
     "data": {
      "application/vnd.jupyter.widget-view+json": {
       "model_id": "",
       "version_major": 2,
       "version_minor": 0
      },
      "text/plain": [
       "FloatProgress(value=0.0, bar_style='info', description='Progress:', layout=Layout(height='25px', width='50%'),…"
      ]
     },
     "metadata": {},
     "output_type": "display_data"
    }
   ],
   "source": [
    "df2 = spark.sql('select row_number() over(order by atm_zipcode) as location_id, \\\n",
    "                atm_location as location, \\\n",
    "                atm_streetname as streetname, \\\n",
    "                atm_street_number as street_number, \\\n",
    "                atm_zipcode as zipcode, \\\n",
    "                atm_lat as lat, \\\n",
    "                atm_lon as lon \\\n",
    "                from file2')"
   ]
  },
  {
   "cell_type": "code",
   "execution_count": 53,
   "id": "3cde1fa9",
   "metadata": {},
   "outputs": [
    {
     "data": {
      "application/vnd.jupyter.widget-view+json": {
       "model_id": "5ebfef886f7c4defafaf62914d428be2",
       "version_major": 2,
       "version_minor": 0
      },
      "text/plain": [
       "VBox()"
      ]
     },
     "metadata": {},
     "output_type": "display_data"
    },
    {
     "data": {
      "application/vnd.jupyter.widget-view+json": {
       "model_id": "",
       "version_major": 2,
       "version_minor": 0
      },
      "text/plain": [
       "FloatProgress(value=0.0, bar_style='info', description='Progress:', layout=Layout(height='25px', width='50%'),…"
      ]
     },
     "metadata": {},
     "output_type": "display_data"
    },
    {
     "name": "stdout",
     "output_type": "stream",
     "text": [
      "+-----------+--------------------+------------------+-------------+-------+------+------+\n",
      "|location_id|            location|        streetname|street_number|zipcode|   lat|   lon|\n",
      "+-----------+--------------------+------------------+-------------+-------+------+------+\n",
      "|          1|        KÃƒÂ¸benhavn|    Regnbuepladsen|            5|   1550|55.676|12.571|\n",
      "|          2|Intern  KÃƒÂ¸benhavn|  RÃƒÂ¥dhuspladsen|           75|   1550|55.676|12.571|\n",
      "|          3|       Frederiksberg|   Gammel Kongevej|          157|   1850|55.677|12.537|\n",
      "|          4|              Lyngby|       Jernbanevej|            6|   2800|55.772|  12.5|\n",
      "|          5|        HelsingÃƒÂ¸r|    Sct. Olai Gade|           39|   3000|56.036|12.612|\n",
      "|          6|         HillerÃƒÂ¸d|  KÃƒÂ¸benhavnsvej|           31|   3400|55.933|12.314|\n",
      "|          7|HillerÃƒÂ¸d IdrÃƒ...|        Milnersvej|           39|   3400|55.921|12.299|\n",
      "|          8|          Svogerslev|      BrÃƒÂ¸nsager|            1|   4000|55.634|12.018|\n",
      "|          9|            Roskilde|  KÃƒÂ¸benhavnsvej|           65|   4000|55.642|12.106|\n",
      "|         10|    Intern  Roskilde|  KÃƒÂ¸benhavnsvej|           65|   4000|55.642|12.106|\n",
      "|         11|            Slagelse|   Mariendals Alle|           29|   4200|55.398|11.342|\n",
      "|         12|            Slagelse|Mariendals AllÃƒÂ¨|           29|   4200|55.398|11.342|\n",
      "|         13|    Intern HolbÃƒÂ¦k|       Slotsvolden|            7|   4300|55.718|11.704|\n",
      "|         14|           HolbÃƒÂ¦k|       Slotsvolden|            7|   4300|55.718|11.704|\n",
      "|         15|             KÃƒÂ¸ge|    SÃƒÂ¸ndre Alle|            1|   4600|55.454|12.181|\n",
      "|         16|          NÃƒÂ¦stved|       Farimagsvej|            8|   4700|55.233|11.763|\n",
      "|         17|          NÃƒÂ¦stved|      Farimagsgade|            8|   4700| 55.69|12.575|\n",
      "|         18|              Odense|      FÃƒÂ¦lledvej|            3|   5000|55.394| 10.37|\n",
      "|         19|      Intern  Odense|      FÃƒÂ¦lledvej|            3|   5000|55.394| 10.37|\n",
      "|         20|          Middelfart|           Brogade|            9|   5500|55.507| 9.727|\n",
      "+-----------+--------------------+------------------+-------------+-------+------+------+\n",
      "only showing top 20 rows"
     ]
    }
   ],
   "source": [
    "df2.show()"
   ]
  },
  {
   "cell_type": "markdown",
   "id": "22b6c79f",
   "metadata": {},
   "source": [
    "### Adding trans_id column to the original imported DataFrame"
   ]
  },
  {
   "cell_type": "code",
   "execution_count": 55,
   "id": "501f286e",
   "metadata": {},
   "outputs": [
    {
     "data": {
      "application/vnd.jupyter.widget-view+json": {
       "model_id": "a8603f4fa0e44115b16ca596f68af8e3",
       "version_major": 2,
       "version_minor": 0
      },
      "text/plain": [
       "VBox()"
      ]
     },
     "metadata": {},
     "output_type": "display_data"
    },
    {
     "data": {
      "application/vnd.jupyter.widget-view+json": {
       "model_id": "",
       "version_major": 2,
       "version_minor": 0
      },
      "text/plain": [
       "FloatProgress(value=0.0, bar_style='info', description='Progress:', layout=Layout(height='25px', width='50%'),…"
      ]
     },
     "metadata": {},
     "output_type": "display_data"
    }
   ],
   "source": [
    "df.registerTempTable('file3')"
   ]
  },
  {
   "cell_type": "code",
   "execution_count": 56,
   "id": "0e4a5413",
   "metadata": {},
   "outputs": [
    {
     "data": {
      "application/vnd.jupyter.widget-view+json": {
       "model_id": "5b95b6492e744bd29409197d1dcaa23b",
       "version_major": 2,
       "version_minor": 0
      },
      "text/plain": [
       "VBox()"
      ]
     },
     "metadata": {},
     "output_type": "display_data"
    },
    {
     "data": {
      "application/vnd.jupyter.widget-view+json": {
       "model_id": "",
       "version_major": 2,
       "version_minor": 0
      },
      "text/plain": [
       "FloatProgress(value=0.0, bar_style='info', description='Progress:', layout=Layout(height='25px', width='50%'),…"
      ]
     },
     "metadata": {},
     "output_type": "display_data"
    }
   ],
   "source": [
    "df = spark.sql('select row_number() over(order by full_date_time) as trans_id, \\\n",
    "                file3.* from file3')"
   ]
  },
  {
   "cell_type": "code",
   "execution_count": 58,
   "id": "c871212a",
   "metadata": {},
   "outputs": [
    {
     "data": {
      "application/vnd.jupyter.widget-view+json": {
       "model_id": "93da97c0454e4e65ac884f0a426be13f",
       "version_major": 2,
       "version_minor": 0
      },
      "text/plain": [
       "VBox()"
      ]
     },
     "metadata": {},
     "output_type": "display_data"
    },
    {
     "data": {
      "application/vnd.jupyter.widget-view+json": {
       "model_id": "",
       "version_major": 2,
       "version_minor": 0
      },
      "text/plain": [
       "FloatProgress(value=0.0, bar_style='info', description='Progress:', layout=Layout(height='25px', width='50%'),…"
      ]
     },
     "metadata": {},
     "output_type": "display_data"
    }
   ],
   "source": [
    "df.registerTempTable('file3')"
   ]
  },
  {
   "cell_type": "markdown",
   "id": "ba37ce11",
   "metadata": {},
   "source": [
    "###  Adding the date_id column to the original imported DataFrame"
   ]
  },
  {
   "cell_type": "code",
   "execution_count": 59,
   "id": "c94df3d3",
   "metadata": {},
   "outputs": [
    {
     "data": {
      "application/vnd.jupyter.widget-view+json": {
       "model_id": "a76c625d149049bc812e4622b6ba98ab",
       "version_major": 2,
       "version_minor": 0
      },
      "text/plain": [
       "VBox()"
      ]
     },
     "metadata": {},
     "output_type": "display_data"
    },
    {
     "data": {
      "application/vnd.jupyter.widget-view+json": {
       "model_id": "",
       "version_major": 2,
       "version_minor": 0
      },
      "text/plain": [
       "FloatProgress(value=0.0, bar_style='info', description='Progress:', layout=Layout(height='25px', width='50%'),…"
      ]
     },
     "metadata": {},
     "output_type": "display_data"
    }
   ],
   "source": [
    "df = spark.sql('select file3.* , \\\n",
    "                dense_rank() over(order by full_date_time) as date_id \\\n",
    "                from file3')"
   ]
  },
  {
   "cell_type": "code",
   "execution_count": 60,
   "id": "6a94d74b",
   "metadata": {},
   "outputs": [
    {
     "data": {
      "application/vnd.jupyter.widget-view+json": {
       "model_id": "65a5a1a32ef347e99ccb171a86c901ab",
       "version_major": 2,
       "version_minor": 0
      },
      "text/plain": [
       "VBox()"
      ]
     },
     "metadata": {},
     "output_type": "display_data"
    },
    {
     "data": {
      "application/vnd.jupyter.widget-view+json": {
       "model_id": "",
       "version_major": 2,
       "version_minor": 0
      },
      "text/plain": [
       "FloatProgress(value=0.0, bar_style='info', description='Progress:', layout=Layout(height='25px', width='50%'),…"
      ]
     },
     "metadata": {},
     "output_type": "display_data"
    },
    {
     "name": "stdout",
     "output_type": "stream",
     "text": [
      "+--------+----+-------+---+-------+----+----------+------+----------------+------------+--------------+-----------------+-----------+-------+-------+--------+----------+------------------+----------+------------+------------+-----------+-----------+---------------+-----------------+------+--------+--------+----------+--------+-------+----------+----------+------------+-------------------+----------------+-------------------+----------+-------+\n",
      "|trans_id|year|  month|day|weekday|hour|atm_status|atm_id|atm_manufacturer|atm_location|atm_streetname|atm_street_number|atm_zipcode|atm_lat|atm_lon|currency| card_type|transaction_amount|   service|message_code|message_text|weather_lat|weather_lon|weather_city_id|weather_city_name|  temp|pressure|humidity|wind_speed|wind_deg|rain_3h|clouds_all|weather_id|weather_main|weather_description|         full_dt|     full_date_time|atm_number|date_id|\n",
      "+--------+----+-------+---+-------+----+----------+------+----------------+------------+--------------+-----------------+-----------+-------+-------+--------+----------+------------------+----------+------------+------------+-----------+-----------+---------------+-----------------+------+--------+--------+----------+--------+-------+----------+----------+------------+-------------------+----------------+-------------------+----------+-------+\n",
      "|       1|2017|January|  1| Sunday|   0|    Active|     1|             NCR|  NÃƒÂ¦stved|   Farimagsvej|                8|       4700| 55.233| 11.763|     DKK|MasterCard|              5643|Withdrawal|        null|        null|      55.23|     11.761|        2616038|         Naestved|281.15|    1014|      87|         7|     260|  0.215|        92|       500|        Rain|         light rain|1 January 2017 0|2017-01-01 00:00:00|     atm_1|      1|\n",
      "|       2|2017|January|  1| Sunday|   0|  Inactive|     2|             NCR|    Vejgaard|    Hadsundvej|               20|       9000| 57.043|   9.95|     DKK|MasterCard|              1764|Withdrawal|        null|        null|     57.048|      9.935|        2616235|   NÃƒÂ¸rresundby|280.64|    1020|      93|         9|     250|   0.59|        92|       500|        Rain|         light rain|1 January 2017 0|2017-01-01 00:00:00|     atm_2|      1|\n",
      "+--------+----+-------+---+-------+----+----------+------+----------------+------------+--------------+-----------------+-----------+-------+-------+--------+----------+------------------+----------+------------+------------+-----------+-----------+---------------+-----------------+------+--------+--------+----------+--------+-------+----------+----------+------------+-------------------+----------------+-------------------+----------+-------+\n",
      "only showing top 2 rows"
     ]
    }
   ],
   "source": [
    "df.show(2)"
   ]
  },
  {
   "cell_type": "code",
   "execution_count": 61,
   "id": "b0159c3f",
   "metadata": {},
   "outputs": [
    {
     "data": {
      "application/vnd.jupyter.widget-view+json": {
       "model_id": "e558783879e7487089941e31daa75c27",
       "version_major": 2,
       "version_minor": 0
      },
      "text/plain": [
       "VBox()"
      ]
     },
     "metadata": {},
     "output_type": "display_data"
    },
    {
     "data": {
      "application/vnd.jupyter.widget-view+json": {
       "model_id": "",
       "version_major": 2,
       "version_minor": 0
      },
      "text/plain": [
       "FloatProgress(value=0.0, bar_style='info', description='Progress:', layout=Layout(height='25px', width='50%'),…"
      ]
     },
     "metadata": {},
     "output_type": "display_data"
    },
    {
     "name": "stdout",
     "output_type": "stream",
     "text": [
      "+-------+------------------+\n",
      "|summary|           date_id|\n",
      "+-------+------------------+\n",
      "|  count|           2468572|\n",
      "|   mean|4330.3979037273375|\n",
      "| stddev|2431.2282491746973|\n",
      "|    min|                 1|\n",
      "|    max|              8685|\n",
      "+-------+------------------+"
     ]
    }
   ],
   "source": [
    "df.describe(['date_id']).show()"
   ]
  },
  {
   "cell_type": "markdown",
   "id": "7988ada0",
   "metadata": {},
   "source": [
    "### Writing sql query to create FACT_ATM_TRANS Table "
   ]
  },
  {
   "cell_type": "code",
   "execution_count": 64,
   "id": "ed8b245e",
   "metadata": {},
   "outputs": [
    {
     "data": {
      "application/vnd.jupyter.widget-view+json": {
       "model_id": "196b51833ac54043bb85ed9bbd994c1f",
       "version_major": 2,
       "version_minor": 0
      },
      "text/plain": [
       "VBox()"
      ]
     },
     "metadata": {},
     "output_type": "display_data"
    },
    {
     "data": {
      "application/vnd.jupyter.widget-view+json": {
       "model_id": "",
       "version_major": 2,
       "version_minor": 0
      },
      "text/plain": [
       "FloatProgress(value=0.0, bar_style='info', description='Progress:', layout=Layout(height='25px', width='50%'),…"
      ]
     },
     "metadata": {},
     "output_type": "display_data"
    }
   ],
   "source": [
    "df1.registerTempTable('t1')\n",
    "df2.registerTempTable('t2')\n",
    "df.registerTempTable('t')"
   ]
  },
  {
   "cell_type": "code",
   "execution_count": 65,
   "id": "6a9b3b3f",
   "metadata": {},
   "outputs": [
    {
     "data": {
      "application/vnd.jupyter.widget-view+json": {
       "model_id": "656d2a748dd44d898a67db4307b61e33",
       "version_major": 2,
       "version_minor": 0
      },
      "text/plain": [
       "VBox()"
      ]
     },
     "metadata": {},
     "output_type": "display_data"
    },
    {
     "data": {
      "application/vnd.jupyter.widget-view+json": {
       "model_id": "",
       "version_major": 2,
       "version_minor": 0
      },
      "text/plain": [
       "FloatProgress(value=0.0, bar_style='info', description='Progress:', layout=Layout(height='25px', width='50%'),…"
      ]
     },
     "metadata": {},
     "output_type": "display_data"
    }
   ],
   "source": [
    "fact_atm_trans = spark.sql(\"\"\"\n",
    "                        select t.trans_id,\n",
    "                        t.atm_id,\n",
    "                        t2.location_id as weather_loc_id,\n",
    "                        t.date_id,\n",
    "                        t1.card_type_id,\n",
    "                        t.atm_status,\n",
    "                        t.currency,\n",
    "                        t.service,\n",
    "                        t.transaction_amount,\n",
    "                        t.message_code,\n",
    "                        t.message_text,\n",
    "                        t.rain_3h,\n",
    "                        t.clouds_all,\n",
    "                        t.weather_id,\n",
    "                        t.weather_main,\n",
    "                        t.weather_description\n",
    "\n",
    "                        from t\n",
    "                        \n",
    "                        left join t1\n",
    "                        on t.card_type = t1.card_type\n",
    "                        \n",
    "                        left join t2\n",
    "                        on t.atm_location = t2.location\n",
    "                        and t.atm_streetname = t2.streetname\n",
    "                        and t.atm_street_number = t2.street_number\n",
    "                        and t.atm_zipcode = t2.zipcode\n",
    "                        and t.atm_lat = t2.lat\n",
    "                        and t.atm_lon = t2.lon\n",
    "                        \"\"\")"
   ]
  },
  {
   "cell_type": "code",
   "execution_count": 66,
   "id": "40d389ad",
   "metadata": {},
   "outputs": [
    {
     "data": {
      "application/vnd.jupyter.widget-view+json": {
       "model_id": "6880352b08ce4acb8d12627d6c1b45cf",
       "version_major": 2,
       "version_minor": 0
      },
      "text/plain": [
       "VBox()"
      ]
     },
     "metadata": {},
     "output_type": "display_data"
    },
    {
     "data": {
      "application/vnd.jupyter.widget-view+json": {
       "model_id": "",
       "version_major": 2,
       "version_minor": 0
      },
      "text/plain": [
       "FloatProgress(value=0.0, bar_style='info', description='Progress:', layout=Layout(height='25px', width='50%'),…"
      ]
     },
     "metadata": {},
     "output_type": "display_data"
    },
    {
     "name": "stdout",
     "output_type": "stream",
     "text": [
      "+--------+------+--------------+-------+------------+----------+--------+----------+------------------+------------+------------+-------+----------+----------+------------+--------------------+\n",
      "|trans_id|atm_id|weather_loc_id|date_id|card_type_id|atm_status|currency|   service|transaction_amount|message_code|message_text|rain_3h|clouds_all|weather_id|weather_main| weather_description|\n",
      "+--------+------+--------------+-------+------------+----------+--------+----------+------------------+------------+------------+-------+----------+----------+------------+--------------------+\n",
      "|       1|     1|            16|      1|           7|    Active|     DKK|Withdrawal|              5643|        null|        null|  0.215|        92|       500|        Rain|          light rain|\n",
      "|       2|     2|            59|      1|           7|  Inactive|     DKK|Withdrawal|              1764|        null|        null|   0.59|        92|       500|        Rain|          light rain|\n",
      "|       3|     2|            59|      1|           9|  Inactive|     DKK|Withdrawal|              1891|        null|        null|   0.59|        92|       500|        Rain|          light rain|\n",
      "|       4|     3|            31|      1|           9|  Inactive|     DKK|Withdrawal|              4166|        null|        null|    0.0|        75|       300|     Drizzle|light intensity d...|\n",
      "|       5|     4|             8|      1|           7|    Active|     DKK|Withdrawal|              5153|        null|        null|    0.0|        88|       701|        Mist|                mist|\n",
      "+--------+------+--------------+-------+------------+----------+--------+----------+------------------+------------+------------+-------+----------+----------+------------+--------------------+\n",
      "only showing top 5 rows"
     ]
    }
   ],
   "source": [
    "fact_atm_trans.show(5)"
   ]
  },
  {
   "cell_type": "markdown",
   "id": "5f9a2aa6",
   "metadata": {},
   "source": [
    "## Writing results to csv file"
   ]
  },
  {
   "cell_type": "markdown",
   "id": "85f0ddbc",
   "metadata": {},
   "source": [
    "#####  Writing DIM_CARD_TYPE"
   ]
  },
  {
   "cell_type": "code",
   "execution_count": 74,
   "id": "850cf49b",
   "metadata": {},
   "outputs": [
    {
     "data": {
      "application/vnd.jupyter.widget-view+json": {
       "model_id": "68be7d255f2d4bb5af24368999f92ad7",
       "version_major": 2,
       "version_minor": 0
      },
      "text/plain": [
       "VBox()"
      ]
     },
     "metadata": {},
     "output_type": "display_data"
    },
    {
     "data": {
      "application/vnd.jupyter.widget-view+json": {
       "model_id": "",
       "version_major": 2,
       "version_minor": 0
      },
      "text/plain": [
       "FloatProgress(value=0.0, bar_style='info', description='Progress:', layout=Layout(height='25px', width='50%'),…"
      ]
     },
     "metadata": {},
     "output_type": "display_data"
    }
   ],
   "source": [
    "df1.write.csv('output_file/dim_card_type')"
   ]
  },
  {
   "cell_type": "code",
   "execution_count": 68,
   "id": "441d3274",
   "metadata": {},
   "outputs": [
    {
     "data": {
      "application/vnd.jupyter.widget-view+json": {
       "model_id": "d80224ffb1fa446b804bf13bdcb54a16",
       "version_major": 2,
       "version_minor": 0
      },
      "text/plain": [
       "VBox()"
      ]
     },
     "metadata": {},
     "output_type": "display_data"
    },
    {
     "data": {
      "application/vnd.jupyter.widget-view+json": {
       "model_id": "",
       "version_major": 2,
       "version_minor": 0
      },
      "text/plain": [
       "FloatProgress(value=0.0, bar_style='info', description='Progress:', layout=Layout(height='25px', width='50%'),…"
      ]
     },
     "metadata": {},
     "output_type": "display_data"
    },
    {
     "name": "stdout",
     "output_type": "stream",
     "text": [
      "+-----------+--------------------+------------------+-------------+-------+------+------+\n",
      "|location_id|            location|        streetname|street_number|zipcode|   lat|   lon|\n",
      "+-----------+--------------------+------------------+-------------+-------+------+------+\n",
      "|          1|        KÃƒÂ¸benhavn|    Regnbuepladsen|            5|   1550|55.676|12.571|\n",
      "|          2|Intern  KÃƒÂ¸benhavn|  RÃƒÂ¥dhuspladsen|           75|   1550|55.676|12.571|\n",
      "|          3|       Frederiksberg|   Gammel Kongevej|          157|   1850|55.677|12.537|\n",
      "|          4|              Lyngby|       Jernbanevej|            6|   2800|55.772|  12.5|\n",
      "|          5|        HelsingÃƒÂ¸r|    Sct. Olai Gade|           39|   3000|56.036|12.612|\n",
      "|          6|         HillerÃƒÂ¸d|  KÃƒÂ¸benhavnsvej|           31|   3400|55.933|12.314|\n",
      "|          7|HillerÃƒÂ¸d IdrÃƒ...|        Milnersvej|           39|   3400|55.921|12.299|\n",
      "|          8|          Svogerslev|      BrÃƒÂ¸nsager|            1|   4000|55.634|12.018|\n",
      "|          9|            Roskilde|  KÃƒÂ¸benhavnsvej|           65|   4000|55.642|12.106|\n",
      "|         10|    Intern  Roskilde|  KÃƒÂ¸benhavnsvej|           65|   4000|55.642|12.106|\n",
      "|         11|            Slagelse|   Mariendals Alle|           29|   4200|55.398|11.342|\n",
      "|         12|            Slagelse|Mariendals AllÃƒÂ¨|           29|   4200|55.398|11.342|\n",
      "|         13|    Intern HolbÃƒÂ¦k|       Slotsvolden|            7|   4300|55.718|11.704|\n",
      "|         14|           HolbÃƒÂ¦k|       Slotsvolden|            7|   4300|55.718|11.704|\n",
      "|         15|             KÃƒÂ¸ge|    SÃƒÂ¸ndre Alle|            1|   4600|55.454|12.181|\n",
      "|         16|          NÃƒÂ¦stved|       Farimagsvej|            8|   4700|55.233|11.763|\n",
      "|         17|          NÃƒÂ¦stved|      Farimagsgade|            8|   4700| 55.69|12.575|\n",
      "|         18|              Odense|      FÃƒÂ¦lledvej|            3|   5000|55.394| 10.37|\n",
      "|         19|      Intern  Odense|      FÃƒÂ¦lledvej|            3|   5000|55.394| 10.37|\n",
      "|         20|          Middelfart|           Brogade|            9|   5500|55.507| 9.727|\n",
      "+-----------+--------------------+------------------+-------------+-------+------+------+\n",
      "only showing top 20 rows"
     ]
    }
   ],
   "source": [
    "df2.show()"
   ]
  },
  {
   "cell_type": "markdown",
   "id": "54efd259",
   "metadata": {},
   "source": [
    "##### Writing DIM_LOCATION"
   ]
  },
  {
   "cell_type": "code",
   "execution_count": 75,
   "id": "9a28c751",
   "metadata": {},
   "outputs": [
    {
     "data": {
      "application/vnd.jupyter.widget-view+json": {
       "model_id": "b3dd1c7c13564073b2e3b7d7448a89aa",
       "version_major": 2,
       "version_minor": 0
      },
      "text/plain": [
       "VBox()"
      ]
     },
     "metadata": {},
     "output_type": "display_data"
    },
    {
     "data": {
      "application/vnd.jupyter.widget-view+json": {
       "model_id": "",
       "version_major": 2,
       "version_minor": 0
      },
      "text/plain": [
       "FloatProgress(value=0.0, bar_style='info', description='Progress:', layout=Layout(height='25px', width='50%'),…"
      ]
     },
     "metadata": {},
     "output_type": "display_data"
    }
   ],
   "source": [
    "df2.write.csv('output_file/dim_location')"
   ]
  },
  {
   "cell_type": "markdown",
   "id": "426723f2",
   "metadata": {},
   "source": [
    "### Creating  DIM_DATE DataFrame"
   ]
  },
  {
   "cell_type": "code",
   "execution_count": 70,
   "id": "472b4849",
   "metadata": {},
   "outputs": [
    {
     "data": {
      "application/vnd.jupyter.widget-view+json": {
       "model_id": "18ae12d67f0146eebc40546016a423a9",
       "version_major": 2,
       "version_minor": 0
      },
      "text/plain": [
       "VBox()"
      ]
     },
     "metadata": {},
     "output_type": "display_data"
    },
    {
     "data": {
      "application/vnd.jupyter.widget-view+json": {
       "model_id": "",
       "version_major": 2,
       "version_minor": 0
      },
      "text/plain": [
       "FloatProgress(value=0.0, bar_style='info', description='Progress:', layout=Layout(height='25px', width='50%'),…"
      ]
     },
     "metadata": {},
     "output_type": "display_data"
    }
   ],
   "source": [
    "df3 = df.select('date_id','full_date_time','year','month','day','hour','weekday').distinct()"
   ]
  },
  {
   "cell_type": "markdown",
   "id": "ed74c259",
   "metadata": {},
   "source": [
    "##### DIM_DATE - count of records validation"
   ]
  },
  {
   "cell_type": "code",
   "execution_count": 71,
   "id": "344254d7",
   "metadata": {},
   "outputs": [
    {
     "data": {
      "application/vnd.jupyter.widget-view+json": {
       "model_id": "8ce77940404d49338dcab7c328611cba",
       "version_major": 2,
       "version_minor": 0
      },
      "text/plain": [
       "VBox()"
      ]
     },
     "metadata": {},
     "output_type": "display_data"
    },
    {
     "data": {
      "application/vnd.jupyter.widget-view+json": {
       "model_id": "",
       "version_major": 2,
       "version_minor": 0
      },
      "text/plain": [
       "FloatProgress(value=0.0, bar_style='info', description='Progress:', layout=Layout(height='25px', width='50%'),…"
      ]
     },
     "metadata": {},
     "output_type": "display_data"
    },
    {
     "name": "stdout",
     "output_type": "stream",
     "text": [
      "8685"
     ]
    }
   ],
   "source": [
    "df3.count()"
   ]
  },
  {
   "cell_type": "markdown",
   "id": "ba9ad24e",
   "metadata": {},
   "source": [
    "##### Writing DIM_DATE"
   ]
  },
  {
   "cell_type": "code",
   "execution_count": 76,
   "id": "8a81eef5",
   "metadata": {},
   "outputs": [
    {
     "data": {
      "application/vnd.jupyter.widget-view+json": {
       "model_id": "33fab5065b5540bfb06ee574afb68217",
       "version_major": 2,
       "version_minor": 0
      },
      "text/plain": [
       "VBox()"
      ]
     },
     "metadata": {},
     "output_type": "display_data"
    },
    {
     "data": {
      "application/vnd.jupyter.widget-view+json": {
       "model_id": "",
       "version_major": 2,
       "version_minor": 0
      },
      "text/plain": [
       "FloatProgress(value=0.0, bar_style='info', description='Progress:', layout=Layout(height='25px', width='50%'),…"
      ]
     },
     "metadata": {},
     "output_type": "display_data"
    }
   ],
   "source": [
    "df3.write.csv('output_file/dim_date')"
   ]
  },
  {
   "cell_type": "markdown",
   "id": "ca2d1fb7",
   "metadata": {},
   "source": [
    "##### Writing FACT_ATM_TRANS"
   ]
  },
  {
   "cell_type": "code",
   "execution_count": 73,
   "id": "413ce8be",
   "metadata": {},
   "outputs": [
    {
     "data": {
      "application/vnd.jupyter.widget-view+json": {
       "model_id": "dbf5d89d79d348fa94eca95686e3080b",
       "version_major": 2,
       "version_minor": 0
      },
      "text/plain": [
       "VBox()"
      ]
     },
     "metadata": {},
     "output_type": "display_data"
    },
    {
     "data": {
      "application/vnd.jupyter.widget-view+json": {
       "model_id": "",
       "version_major": 2,
       "version_minor": 0
      },
      "text/plain": [
       "FloatProgress(value=0.0, bar_style='info', description='Progress:', layout=Layout(height='25px', width='50%'),…"
      ]
     },
     "metadata": {},
     "output_type": "display_data"
    }
   ],
   "source": [
    "fact_atm_trans.write.csv('output_file/fact_atm_trans')"
   ]
  },
  {
   "cell_type": "markdown",
   "id": "99b3327d",
   "metadata": {},
   "source": [
    "### Creating DIM_ATM DataFrame with SQL query"
   ]
  },
  {
   "cell_type": "code",
   "execution_count": 80,
   "id": "8a673b47",
   "metadata": {},
   "outputs": [
    {
     "data": {
      "application/vnd.jupyter.widget-view+json": {
       "model_id": "7f41cbf2d52e47b3ad4f13d1b7bb3ad9",
       "version_major": 2,
       "version_minor": 0
      },
      "text/plain": [
       "VBox()"
      ]
     },
     "metadata": {},
     "output_type": "display_data"
    },
    {
     "data": {
      "application/vnd.jupyter.widget-view+json": {
       "model_id": "",
       "version_major": 2,
       "version_minor": 0
      },
      "text/plain": [
       "FloatProgress(value=0.0, bar_style='info', description='Progress:', layout=Layout(height='25px', width='50%'),…"
      ]
     },
     "metadata": {},
     "output_type": "display_data"
    }
   ],
   "source": [
    "dim_atm = spark.sql(\"\"\" select distinct t.atm_id,\n",
    "                        t.atm_number,\n",
    "                        t.atm_manufacturer,\n",
    "                        t2.location_id as atm_location_id\n",
    "                        from t \n",
    "                        \n",
    "                        left join t2\n",
    "                        on t.atm_location = t2.location\n",
    "                        and t.atm_streetname = t2.streetname\n",
    "                        and t.atm_street_number = t2.street_number\n",
    "                        and t.atm_zipcode = t2.zipcode\n",
    "                        and t.atm_lat = t2.lat\n",
    "                        and t.atm_lon = t2.lon\n",
    "                        \"\"\")"
   ]
  },
  {
   "cell_type": "code",
   "execution_count": 81,
   "id": "b1fe0754",
   "metadata": {},
   "outputs": [
    {
     "data": {
      "application/vnd.jupyter.widget-view+json": {
       "model_id": "d83814e83ad5422e8f9e98eb8e5f4ff9",
       "version_major": 2,
       "version_minor": 0
      },
      "text/plain": [
       "VBox()"
      ]
     },
     "metadata": {},
     "output_type": "display_data"
    },
    {
     "data": {
      "application/vnd.jupyter.widget-view+json": {
       "model_id": "",
       "version_major": 2,
       "version_minor": 0
      },
      "text/plain": [
       "FloatProgress(value=0.0, bar_style='info', description='Progress:', layout=Layout(height='25px', width='50%'),…"
      ]
     },
     "metadata": {},
     "output_type": "display_data"
    },
    {
     "name": "stdout",
     "output_type": "stream",
     "text": [
      "+------+----------+----------------+---------------+\n",
      "|atm_id|atm_number|atm_manufacturer|atm_location_id|\n",
      "+------+----------+----------------+---------------+\n",
      "|    59|    atm_59| Diebold Nixdorf|             44|\n",
      "|    51|    atm_51|             NCR|             74|\n",
      "|    27|    atm_27|             NCR|             30|\n",
      "|    81|    atm_81|             NCR|             71|\n",
      "|    42|    atm_42|             NCR|             36|\n",
      "|   106|   atm_106|             NCR|             10|\n",
      "|     9|     atm_9| Diebold Nixdorf|             88|\n",
      "|    63|    atm_63|             NCR|             40|\n",
      "|    32|    atm_32|             NCR|             25|\n",
      "|    16|    atm_16|             NCR|             33|\n",
      "|    24|    atm_24|             NCR|             85|\n",
      "|    85|    atm_85| Diebold Nixdorf|              1|\n",
      "|    62|    atm_62| Diebold Nixdorf|             90|\n",
      "|    19|    atm_19|             NCR|             23|\n",
      "|     7|     atm_7| Diebold Nixdorf|             80|\n",
      "|    89|    atm_89|             NCR|            104|\n",
      "|    99|    atm_99|             NCR|             29|\n",
      "|    72|    atm_72|             NCR|             89|\n",
      "|    91|    atm_91|             NCR|             34|\n",
      "|    65|    atm_65|             NCR|             76|\n",
      "+------+----------+----------------+---------------+\n",
      "only showing top 20 rows"
     ]
    }
   ],
   "source": [
    "dim_atm.show()"
   ]
  },
  {
   "cell_type": "markdown",
   "id": "8e55acea",
   "metadata": {},
   "source": [
    "##### DIM_ATM - count of records validation"
   ]
  },
  {
   "cell_type": "code",
   "execution_count": 82,
   "id": "8d54bf3f",
   "metadata": {},
   "outputs": [
    {
     "data": {
      "application/vnd.jupyter.widget-view+json": {
       "model_id": "bc9ce49dc3964685b006cbc01ef3142a",
       "version_major": 2,
       "version_minor": 0
      },
      "text/plain": [
       "VBox()"
      ]
     },
     "metadata": {},
     "output_type": "display_data"
    },
    {
     "data": {
      "application/vnd.jupyter.widget-view+json": {
       "model_id": "",
       "version_major": 2,
       "version_minor": 0
      },
      "text/plain": [
       "FloatProgress(value=0.0, bar_style='info', description='Progress:', layout=Layout(height='25px', width='50%'),…"
      ]
     },
     "metadata": {},
     "output_type": "display_data"
    },
    {
     "name": "stdout",
     "output_type": "stream",
     "text": [
      "113"
     ]
    }
   ],
   "source": [
    "dim_atm.count()"
   ]
  },
  {
   "cell_type": "markdown",
   "id": "7d75f8a2",
   "metadata": {},
   "source": [
    "##### Writing DIM_ATM"
   ]
  },
  {
   "cell_type": "code",
   "execution_count": 83,
   "id": "334339f7",
   "metadata": {},
   "outputs": [
    {
     "data": {
      "application/vnd.jupyter.widget-view+json": {
       "model_id": "fe24b47590a74e9482c6bd2c8d106f80",
       "version_major": 2,
       "version_minor": 0
      },
      "text/plain": [
       "VBox()"
      ]
     },
     "metadata": {},
     "output_type": "display_data"
    },
    {
     "data": {
      "application/vnd.jupyter.widget-view+json": {
       "model_id": "",
       "version_major": 2,
       "version_minor": 0
      },
      "text/plain": [
       "FloatProgress(value=0.0, bar_style='info', description='Progress:', layout=Layout(height='25px', width='50%'),…"
      ]
     },
     "metadata": {},
     "output_type": "display_data"
    }
   ],
   "source": [
    "dim_atm.coalesce(1).write.csv('output_file/dim_atm')"
   ]
  }
 ],
 "metadata": {
  "kernelspec": {
   "display_name": "PySpark",
   "language": "",
   "name": "pysparkkernel"
  },
  "language_info": {
   "codemirror_mode": {
    "name": "python",
    "version": 2
   },
   "mimetype": "text/x-python",
   "name": "pyspark",
   "pygments_lexer": "python2"
  }
 },
 "nbformat": 4,
 "nbformat_minor": 5
}
